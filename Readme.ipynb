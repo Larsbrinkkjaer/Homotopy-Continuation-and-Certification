{
 "cells": [
  {
   "cell_type": "markdown",
   "metadata": {},
   "source": [
    "README file:\n",
    "\n",
    "The file \"Data_for_Examples.py\" contains data for specific examples that are used in the thesis, or which enables use of an algorithm described in the project.\n",
    "\n",
    "The file \"Results_of_Examples.ipynb\" contains the results of applying functions for homotopy continuation and for certification on the examples defined in \"Data_for_Examples.py\".\n",
    "\n",
    "The file \"Julia_6R_serial\" contains solutions of the 6R-serial link robot with the same parameters as defined in \"Example 10\" in \"Data_for_Examples.py\".\n",
    "\n",
    "The file \"Homotopy_Contiuation_and_Certification\" contains all version of homotopy continuation and ceritification used thoughout the thesis. Only few of them are designed to work in general, which are the following:\n",
    " - Homotopy_Continuation_4\n",
    " - Homotopy_Continuation_5\n",
    " - Homotopy_Continuation_A\n",
    " - Homotopy_Continuation_B\n",
    " - Homotopy_Continuation_CP\n",
    " - Certify\n",
    "\n",
    "  The following contains information about how to use these functions:\n",
    "\n",
    "  Before applying any of these functions, we need to define the variables and polynomial systems in the following way:\n",
    "  - Variables:\n",
    "      x1,x2,x3=sp.symbols('x1 x2 x3') #Set any number of variables\n",
    "  - Polynomial Systems:\n",
    "      F=x1\\*\\*2-1,x2\\*\\*2-2*x1,x3\\*\\*2-x2\\*x1 #Seperate each polynomial in the defined variables by a comma.\n",
    "\n",
    "  - Homotopy_Continuation_4(F,M=1000):\n",
    "    - Input: F: polynomial system in defined variables, M:  Number of iterations (Optional)\n",
    "    - Output: Display of solutions to F, Array of solutions to F\n",
    "  - Homotopy_Continuation_5(F,M=1000):\n",
    "    - Input: F: polynomial system in defined variables, M:  Number of iterations (Optional)\n",
    "    - Output: Display of solutions to F, Array of solutions to F\n",
    "  - Homotopy_Continuation_A(F,M=1000):\n",
    "    - Input: F: polynomial system in defined variables, M:  Number of iterations (Optional)\n",
    "    - Output: Array of solutions to F\n",
    "  - Homotopy_Continuation_B(F,M=1000):\n",
    "    - Input: F: polynomial system in defined variables M: Number of iterations (Optional)\n",
    "    - Output: Array of solutions to F\n",
    "  - Homotopy_Continuation_CP(F0,F0_roots,F1,U_complement=1,M=1000):\n",
    "    - Input: F0: polynomial system in defined variables for known solutions, F0_roots: solutions to F0, F1: polynomial system of same structure as F0 with different parameters, U_complement: Equation of defined variables, which the desired solutions do not fulfill (Optional), M: Number of iterations (Optional)\n",
    "    - Output: Array of solutions to F1\n",
    "  - Certify(F, sol):\n",
    "    - Input: polynomial system in defined variables for known solutions, sol: solutions to F\n",
    "    - Output: Certified solutions, Interval of number of real solutions, Lower bound of number of distinct solutions, Maximal numerical inaccuracy of solutions."
   ]
  }
 ],
 "metadata": {
  "kernelspec": {
   "display_name": "base",
   "language": "python",
   "name": "python3"
  },
  "language_info": {
   "codemirror_mode": {
    "name": "ipython",
    "version": 3
   },
   "file_extension": ".py",
   "mimetype": "text/x-python",
   "name": "python",
   "nbconvert_exporter": "python",
   "pygments_lexer": "ipython3",
   "version": "3.8.8"
  }
 },
 "nbformat": 4,
 "nbformat_minor": 2
}
